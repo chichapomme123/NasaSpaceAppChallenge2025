{
 "cells": [
  {
   "cell_type": "markdown",
   "id": "49a960b6",
   "metadata": {},
   "source": [
    "CATBOOST MULTICLASS MODEL"
   ]
  },
  {
   "cell_type": "code",
   "execution_count": null,
   "id": "f1594824",
   "metadata": {},
   "outputs": [],
   "source": [
    "\n",
    "import pandas as pd\n",
    "import numpy as np\n",
    "from sklearn.metrics import (\n",
    "    accuracy_score, classification_report, confusion_matrix,\n",
    "    roc_auc_score, f1_score, precision_score, recall_score\n",
    ")\n",
    "from sklearn.utils.class_weight import compute_class_weight\n",
    "from catboost import CatBoostClassifier, Pool\n",
    "import matplotlib.pyplot as plt\n",
    "import seaborn as sns\n",
    "import pickle\n",
    "import warnings\n",
    "from datetime import datetime\n",
    "warnings.filterwarnings('ignore')\n",
    "\n",
    "plt.style.use('seaborn-v0_8-darkgrid')\n",
    "sns.set_palette(\"husl\")"
   ]
  },
  {
   "cell_type": "markdown",
   "id": "41ed98f4",
   "metadata": {},
   "source": [
    "1. LOAD DATA"
   ]
  },
  {
   "cell_type": "code",
   "execution_count": 45,
   "id": "e698dcb2",
   "metadata": {},
   "outputs": [
    {
     "name": "stdout",
     "output_type": "stream",
     "text": [
      "Dataset Shapes:\n",
      "   Train:     (6694, 13)\n",
      "   Validate:  (956, 13)\n",
      "   Test:      (957, 13)\n",
      "   Retrain:   (957, 13)\n"
     ]
    }
   ],
   "source": [
    "\n",
    "DATA_PATH = r'/home/may/Desktop/NASA/NasaSpaceChallenge2025ExoplanetExprolationNebrise/data/processed'\n",
    "\n",
    "X_train = pd.read_csv(f'{DATA_PATH}/step6_X_train.csv')\n",
    "y_train = pd.read_csv(f'{DATA_PATH}/step6_y_train.csv').squeeze()\n",
    "\n",
    "X_validate = pd.read_csv(f'{DATA_PATH}/step6_X_val.csv')\n",
    "y_validate = pd.read_csv(f'{DATA_PATH}/step6_y_val.csv').squeeze()\n",
    "\n",
    "X_test = pd.read_csv(f'{DATA_PATH}/step6_X_test.csv')\n",
    "y_test = pd.read_csv(f'{DATA_PATH}/step6_y_test.csv').squeeze()\n",
    "\n",
    "X_retrain = pd.read_csv(f'{DATA_PATH}/step6_X_new.csv')\n",
    "y_retrain = pd.read_csv(f'{DATA_PATH}/step6_y_new.csv').squeeze()\n",
    "\n",
    "print(\"Dataset Shapes:\")\n",
    "print(f\"   Train:     {X_train.shape}\")\n",
    "print(f\"   Validate:  {X_validate.shape}\")\n",
    "print(f\"   Test:      {X_test.shape}\")\n",
    "print(f\"   Retrain:   {X_retrain.shape}\")"
   ]
  },
  {
   "cell_type": "markdown",
   "id": "09a67893",
   "metadata": {},
   "source": [
    "2. FEATURE ENGINEERING - Transit features"
   ]
  },
  {
   "cell_type": "code",
   "execution_count": 46,
   "id": "68ffff1e",
   "metadata": {},
   "outputs": [
    {
     "name": "stdout",
     "output_type": "stream",
     "text": [
      "Enhanced Feature Count: 18\n"
     ]
    }
   ],
   "source": [
    "\n",
    "def engineer_transit_features(X):\n",
    "    X_enhanced = X.copy()\n",
    "    if 'koi_depth' in X.columns and 'koi_duration' in X.columns:\n",
    "        X_enhanced['transit_depth_duration_ratio'] = X['koi_depth'] / (X['koi_duration'] + 1e-6)\n",
    "    if 'koi_model_snr' in X.columns:\n",
    "        X_enhanced['snr_log'] = np.log1p(X['koi_model_snr'])\n",
    "        X_enhanced['snr_squared'] = X['koi_model_snr'] ** 2\n",
    "    if all(f in X.columns for f in ['koi_depth', 'koi_model_snr', 'koi_duration']):\n",
    "        X_enhanced['transit_detectability'] = (\n",
    "            X['koi_depth'] * X['koi_model_snr'] / (X['koi_duration'] + 1)\n",
    "        )\n",
    "    if 'koi_depth' in X.columns:\n",
    "        X_enhanced['depth_normalized'] = X['koi_depth'] / X['koi_depth'].median()\n",
    "    return X_enhanced\n",
    "\n",
    "X_train_enhanced = engineer_transit_features(X_train)\n",
    "X_validate_enhanced = engineer_transit_features(X_validate)\n",
    "X_test_enhanced = engineer_transit_features(X_test)\n",
    "X_retrain_enhanced = engineer_transit_features(X_retrain)\n",
    "\n",
    "print(f\"Enhanced Feature Count: {X_train_enhanced.shape[1]}\")"
   ]
  },
  {
   "cell_type": "markdown",
   "id": "19816017",
   "metadata": {},
   "source": [
    "3. CLASS WEIGHTS"
   ]
  },
  {
   "cell_type": "code",
   "execution_count": 47,
   "id": "8e272a10",
   "metadata": {},
   "outputs": [
    {
     "name": "stdout",
     "output_type": "stream",
     "text": [
      "\n",
      "⚖️ Class Weights:\n",
      "   Class 0: 0.6588\n",
      "   Class 1: 1.6111\n",
      "   Class 2: 1.1609\n"
     ]
    }
   ],
   "source": [
    "\n",
    "classes = np.unique(y_train)\n",
    "weights = compute_class_weight('balanced', classes=classes, y=y_train)\n",
    "class_weights = dict(zip(classes, weights))\n",
    "print(\"\\n⚖️ Class Weights:\")\n",
    "for k, v in class_weights.items():\n",
    "    print(f\"   Class {k}: {v:.4f}\")\n"
   ]
  },
  {
   "cell_type": "markdown",
   "id": "ec7c820f",
   "metadata": {},
   "source": [
    "4. PARAMETERS "
   ]
  },
  {
   "cell_type": "code",
   "execution_count": null,
   "id": "01089223",
   "metadata": {},
   "outputs": [],
   "source": [
    "\n",
    "cat_params = {\n",
    "    'iterations': 2000,\n",
    "    'learning_rate': 0.03,\n",
    "    'depth': 8,\n",
    "    'l2_leaf_reg': 5,\n",
    "    'loss_function': 'MultiClass',\n",
    "    'eval_metric': 'MultiClass',\n",
    "    'od_type': 'Iter',\n",
    "    'od_wait': 100,\n",
    "    'task_type': 'CPU',\n",
    "    'class_weights': list(class_weights.values()),\n",
    "    'verbose': 100,\n",
    "    'random_seed': 42\n",
    "}"
   ]
  },
  {
   "cell_type": "markdown",
   "id": "9db797d7",
   "metadata": {},
   "source": [
    "5. TRAIN MODEL"
   ]
  },
  {
   "cell_type": "code",
   "execution_count": 49,
   "id": "a25bc203",
   "metadata": {},
   "outputs": [
    {
     "name": "stdout",
     "output_type": "stream",
     "text": [
      "Training CatBoost on CPU...\n",
      "0:\tlearn: 1.0777377\ttest: 1.0772432\tbest: 1.0772432 (0)\ttotal: 15ms\tremaining: 29.9s\n",
      "100:\tlearn: 0.5972260\ttest: 0.6112473\tbest: 0.6112473 (100)\ttotal: 848ms\tremaining: 15.9s\n",
      "200:\tlearn: 0.5269050\ttest: 0.5662715\tbest: 0.5662715 (200)\ttotal: 1.66s\tremaining: 14.8s\n",
      "300:\tlearn: 0.4866930\ttest: 0.5481996\tbest: 0.5481996 (300)\ttotal: 2.46s\tremaining: 13.9s\n",
      "400:\tlearn: 0.4543163\ttest: 0.5373756\tbest: 0.5373756 (400)\ttotal: 3.28s\tremaining: 13.1s\n",
      "500:\tlearn: 0.4260936\ttest: 0.5316819\tbest: 0.5316819 (500)\ttotal: 4.09s\tremaining: 12.2s\n",
      "600:\tlearn: 0.4033650\ttest: 0.5279926\tbest: 0.5279926 (600)\ttotal: 4.89s\tremaining: 11.4s\n",
      "700:\tlearn: 0.3822349\ttest: 0.5271310\tbest: 0.5269305 (698)\ttotal: 5.7s\tremaining: 10.6s\n",
      "800:\tlearn: 0.3625400\ttest: 0.5258898\tbest: 0.5258898 (800)\ttotal: 6.51s\tremaining: 9.75s\n",
      "900:\tlearn: 0.3457529\ttest: 0.5246600\tbest: 0.5246303 (898)\ttotal: 7.32s\tremaining: 8.93s\n",
      "1000:\tlearn: 0.3296354\ttest: 0.5249835\tbest: 0.5245550 (936)\ttotal: 8.14s\tremaining: 8.12s\n",
      "Stopped by overfitting detector  (100 iterations wait)\n",
      "\n",
      "bestTest = 0.5245550188\n",
      "bestIteration = 936\n",
      "\n",
      "Shrink model to first 937 iterations.\n",
      "\n",
      " Training complete!\n",
      "   Best iteration: 936\n",
      "   Best validation score: 0.524555\n"
     ]
    }
   ],
   "source": [
    "\n",
    "print(\"Training CatBoost on CPU...\")\n",
    "\n",
    "train_pool = Pool(X_train_enhanced, label=y_train)\n",
    "val_pool = Pool(X_validate_enhanced, label=y_validate)\n",
    "\n",
    "model = CatBoostClassifier(**cat_params)\n",
    "model.fit(train_pool, eval_set=val_pool, use_best_model=True)\n",
    "\n",
    "print(\"\\n Training complete!\")\n",
    "print(f\"   Best iteration: {model.get_best_iteration()}\")\n",
    "print(f\"   Best validation score: {model.get_best_score()['validation']['MultiClass']:.6f}\")"
   ]
  },
  {
   "cell_type": "markdown",
   "id": "d3a51e61",
   "metadata": {},
   "source": [
    " 6. VALIDATION PERFORMANCE"
   ]
  },
  {
   "cell_type": "code",
   "execution_count": 50,
   "id": "aa525093",
   "metadata": {},
   "outputs": [
    {
     "name": "stdout",
     "output_type": "stream",
     "text": [
      "VALIDATION Performance:\n",
      "   Accuracy: 0.7950\n",
      "   Precision: 0.8179\n",
      "   Recall: 0.7950\n",
      "   F1-Weighted: 0.8013\n",
      "              precision    recall  f1-score   support\n",
      "\n",
      "           0     0.9100    0.7727    0.8358       484\n",
      "           1     0.5469    0.7071    0.6167       198\n",
      "           2     0.8512    0.8978    0.8739       274\n",
      "\n",
      "    accuracy                         0.7950       956\n",
      "   macro avg     0.7694    0.7925    0.7755       956\n",
      "weighted avg     0.8179    0.7950    0.8013       956\n",
      "\n",
      "TEST Performance:\n",
      "   Accuracy: 0.7732\n",
      "   Precision: 0.7917\n",
      "   Recall: 0.7732\n",
      "   F1-Weighted: 0.7792\n",
      "              precision    recall  f1-score   support\n",
      "\n",
      "           0     0.8800    0.7727    0.8229       484\n",
      "           1     0.5304    0.6616    0.5888       198\n",
      "           2     0.8246    0.8545    0.8393       275\n",
      "\n",
      "    accuracy                         0.7732       957\n",
      "   macro avg     0.7450    0.7630    0.7503       957\n",
      "weighted avg     0.7917    0.7732    0.7792       957\n",
      "\n"
     ]
    }
   ],
   "source": [
    "\n",
    "def evaluate_model(model, X, y, name):\n",
    "    preds = model.predict(X).astype(int).flatten()\n",
    "    proba = model.predict_proba(X)\n",
    "    acc = accuracy_score(y, preds)\n",
    "    f1w = f1_score(y, preds, average='weighted')\n",
    "    prec = precision_score(y, preds, average='weighted')\n",
    "    rec = recall_score(y, preds, average='weighted')\n",
    "    print(f\"{name} Performance:\")\n",
    "    print(f\"   Accuracy: {acc:.4f}\")\n",
    "    print(f\"   Precision: {prec:.4f}\")\n",
    "    print(f\"   Recall: {rec:.4f}\")\n",
    "    print(f\"   F1-Weighted: {f1w:.4f}\")\n",
    "    print(classification_report(y, preds, digits=4))\n",
    "    return preds, proba\n",
    "\n",
    "y_val_pred, _ = evaluate_model(model, X_validate_enhanced, y_validate, \"VALIDATION\")\n",
    "y_test_pred, _ = evaluate_model(model, X_test_enhanced, y_test, \"TEST\")\n"
   ]
  },
  {
   "cell_type": "markdown",
   "id": "56815d0a",
   "metadata": {},
   "source": [
    "7. CONFUSION MATRIX"
   ]
  },
  {
   "cell_type": "code",
   "execution_count": 53,
   "id": "348fe42b",
   "metadata": {},
   "outputs": [
    {
     "data": {
      "image/png": "[encoded data removed]",
      "text/plain": [
       "<Figure size 600x500 with 2 Axes>"
      ]
     },
     "metadata": {},
     "output_type": "display_data"
    }
   ],
   "source": [
    "plt.figure(figsize=(6, 5))\n",
    "cm = confusion_matrix(y_test, y_test_pred)\n",
    "sns.heatmap(cm, annot=True, fmt='d', cmap='Blues',\n",
    "            xticklabels=['False Positive', 'Candidate', 'Confirmed'],\n",
    "            yticklabels=['False Positive', 'Candidate', 'Confirmed'])\n",
    "plt.title(\"Confusion Matrix - Test Set\")\n",
    "plt.xlabel(\"Predicted\")\n",
    "plt.ylabel(\"True\")\n",
    "plt.tight_layout()\n",
    "plt.show()  "
   ]
  },
  {
   "cell_type": "markdown",
   "id": "0f71ab4f",
   "metadata": {},
   "source": [
    "8. FEATURE IMPORTANCE"
   ]
  },
  {
   "cell_type": "code",
   "execution_count": 59,
   "id": "939a775e",
   "metadata": {},
   "outputs": [
    {
     "data": {
      "image/png": "[encoded data removed]",
      "text/plain": [
       "<Figure size 1000x800 with 1 Axes>"
      ]
     },
     "metadata": {},
     "output_type": "display_data"
    }
   ],
   "source": [
    "fi = model.get_feature_importance(train_pool)\n",
    "fi_df = pd.DataFrame({'Feature': X_train_enhanced.columns, 'Importance': fi})\n",
    "fi_df = fi_df.sort_values('Importance', ascending=False)\n",
    "\n",
    "plt.figure(figsize=(10, 8))\n",
    "sns.barplot(y='Feature', x='Importance', data=fi_df.head(15), palette='viridis')\n",
    "plt.title(\"Top 15 Feature Importances (CatBoost)\")\n",
    "plt.tight_layout()\n",
    "plt.show() "
   ]
  },
  {
   "cell_type": "markdown",
   "id": "81d58eaa",
   "metadata": {},
   "source": [
    "9. SAVE MODEL"
   ]
  },
  {
   "cell_type": "code",
   "execution_count": null,
   "id": "e97572c9",
   "metadata": {},
   "outputs": [],
   "source": [
    "with open('/home/may/Desktop/NASA/NasaSpaceChallenge2025ExoplanetExprolationNebrise/models/catboost_model/catboost_model.pkl', 'wb') as f:\n",
    "    pickle.dump(model, f)\n"
   ]
  },
  {
   "cell_type": "markdown",
   "id": "b8310469",
   "metadata": {},
   "source": [
    "10. RETRAIN OPTION (OPTIONAL)"
   ]
  },
  {
   "cell_type": "code",
   "execution_count": null,
   "id": "58529f3d",
   "metadata": {},
   "outputs": [
    {
     "name": "stdout",
     "output_type": "stream",
     "text": [
      "Retraining with new data...\n",
      "0:\tlearn: 1.0772720\ttotal: 20.3ms\tremaining: 40.7s\n"
     ]
    },
    {
     "name": "stderr",
     "output_type": "stream",
     "text": [
      "You should provide test set for use best model. use_best_model parameter has been switched to false value.\n"
     ]
    },
    {
     "name": "stdout",
     "output_type": "stream",
     "text": [
      "100:\tlearn: 0.5899695\ttotal: 904ms\tremaining: 17s\n",
      "200:\tlearn: 0.5220791\ttotal: 1.73s\tremaining: 15.4s\n",
      "300:\tlearn: 0.4836157\ttotal: 2.54s\tremaining: 14.3s\n",
      "400:\tlearn: 0.4534529\ttotal: 3.36s\tremaining: 13.4s\n",
      "500:\tlearn: 0.4274840\ttotal: 4.17s\tremaining: 12.5s\n",
      "600:\tlearn: 0.4048418\ttotal: 4.98s\tremaining: 11.6s\n",
      "700:\tlearn: 0.3845536\ttotal: 5.8s\tremaining: 10.8s\n",
      "800:\tlearn: 0.3662965\ttotal: 6.62s\tremaining: 9.91s\n",
      "900:\tlearn: 0.3498024\ttotal: 7.43s\tremaining: 9.06s\n",
      "1000:\tlearn: 0.3336355\ttotal: 8.24s\tremaining: 8.22s\n",
      "1100:\tlearn: 0.3190815\ttotal: 9.12s\tremaining: 7.44s\n",
      "1200:\tlearn: 0.3056695\ttotal: 9.95s\tremaining: 6.62s\n",
      "1300:\tlearn: 0.2938420\ttotal: 10.8s\tremaining: 5.79s\n",
      "1400:\tlearn: 0.2824520\ttotal: 11.6s\tremaining: 4.95s\n",
      "1500:\tlearn: 0.2715490\ttotal: 12.4s\tremaining: 4.12s\n",
      "1600:\tlearn: 0.2615384\ttotal: 13.2s\tremaining: 3.3s\n",
      "1700:\tlearn: 0.2514972\ttotal: 14.1s\tremaining: 2.47s\n",
      "1800:\tlearn: 0.2422716\ttotal: 15s\tremaining: 1.65s\n",
      "1900:\tlearn: 0.2338736\ttotal: 15.8s\tremaining: 824ms\n",
      "1999:\tlearn: 0.2252256\ttotal: 16.6s\tremaining: 0us\n",
      "TEST AFTER RETRAIN Performance:\n",
      "   Accuracy: 0.7785\n",
      "   Precision: 0.7898\n",
      "   Recall: 0.7785\n",
      "   F1-Weighted: 0.7828\n",
      "              precision    recall  f1-score   support\n",
      "\n",
      "           0     0.8622    0.8017    0.8308       484\n",
      "           1     0.5431    0.6364    0.5860       198\n",
      "           2     0.8400    0.8400    0.8400       275\n",
      "\n",
      "    accuracy                         0.7785       957\n",
      "   macro avg     0.7484    0.7593    0.7523       957\n",
      "weighted avg     0.7898    0.7785    0.7828       957\n",
      "\n",
      "Retrained model saved!\n",
      "ALL DONE SUCCESSFULLY\n"
     ]
    }
   ],
   "source": [
    "\n",
    "retrain = True  # change to False if you want to skip\n",
    "\n",
    "if retrain:\n",
    "    print(\"Retraining with new data...\")\n",
    "    X_full = pd.concat([X_train_enhanced, X_retrain_enhanced])\n",
    "    y_full = pd.concat([y_train, y_retrain])\n",
    "    full_pool = Pool(X_full, label=y_full)\n",
    "    model.fit(full_pool, use_best_model=True)\n",
    "    y_test_pred, _ = evaluate_model(model, X_test_enhanced, y_test, \"TEST AFTER RETRAIN\")\n",
    "    with open('/home/may/Desktop/NASA/NasaSpaceChallenge2025ExoplanetExprolationNebrise/models/catboost_model/catboost_model.pkl', 'wb') as f:\n",
    "        pickle.dump(model, f)\n",
    "    print(\"Retrained model saved!\")\n",
    "\n",
    "print(\"ALL DONE SUCCESSFULLY\")"
   ]
  }
 ],
 "metadata": {
  "kernelspec": {
   "display_name": ".venv",
   "language": "python",
   "name": "python3"
  },
  "language_info": {
   "codemirror_mode": {
    "name": "ipython",
    "version": 3
   },
   "file_extension": ".py",
   "mimetype": "text/x-python",
   "name": "python",
   "nbconvert_exporter": "python",
   "pygments_lexer": "ipython3",
   "version": "3.12.3"
  }
 },
 "nbformat": 4,
 "nbformat_minor": 5
}
